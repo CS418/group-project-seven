{
 "cells": [
  {
   "cell_type": "markdown",
   "metadata": {
    "id": "VfiZ4ioDfeOA"
   },
   "source": [
    "# Team Members\n",
    "Team Name - Team Seven\n",
    "1. Reezwan Ul Haq Mohammad - rmoham27@uic.edu\n",
    "2. Sai Anish Garapati - sgarap2@uic.edu\n",
    "3. Vamsi Krishna Mandalapu - vmanda8@uic.edu\n",
    "\n",
    "Project Name - Crash Prediction in Chicago"
   ]
  },
  {
   "cell_type": "markdown",
   "metadata": {},
   "source": [
    "# Any Changes\n",
    "Previously we wanted to build models around the usecase of predicting the fatality of the accident, but the number of accidents that involve serious fatalities are less. So we are building models around the usecase of predicting the 'Primary Reason for a Crash'"
   ]
  },
  {
   "cell_type": "markdown",
   "metadata": {},
   "source": [
    "# Data\n",
    "We are using 3 different datasets which are crashes dataset, vehicle dataset and people dataset. These datasets have the details of a crash occurred, vehicles involved in the crash and people invloved in the crash.\n",
    "There are 700k rows with 49 columns of data in Crash Dataset.\n",
    "Original size of vehicle dataset is 780 MB which has 1.5 million rows with 71 columns.\n",
    "The people dataset contains information about people involved in a crash and if any injuries were sustained.\n",
    "We are using the crash id which is contained in all the datasets to map them where if two or more vehicles are included in a crash, we pick the vehicle which is the reason for the crash.\n",
    "Source\n",
    "\n",
    "Crashes Dataset - https://data.cityofchicago.org/Transportation/Traffic-Crashes-Crashes/85ca-t3if\n",
    "\n",
    "Vehicle Dataset - https://data.cityofchicago.org/Transportation/Traffic-Crashes-Vehicles/68nd-jvt3\n",
    "\n",
    "People Dataset - https://data.cityofchicago.org/Transportation/Traffic-Crashes-People/u6pd-qa9d\n"
   ]
  }
 ],
 "metadata": {
  "colab": {
   "provenance": []
  },
  "kernelspec": {
   "display_name": "Python 3 (ipykernel)",
   "language": "python",
   "name": "python3"
  },
  "language_info": {
   "codemirror_mode": {
    "name": "ipython",
    "version": 3
   },
   "file_extension": ".py",
   "mimetype": "text/x-python",
   "name": "python",
   "nbconvert_exporter": "python",
   "pygments_lexer": "ipython3",
   "version": "3.8.9"
  },
  "vscode": {
   "interpreter": {
    "hash": "829af0bd2c02602bde90c5e837a65b57b5f26d748baaf8a2e913c5b36f7e7fe2"
   }
  }
 },
 "nbformat": 4,
 "nbformat_minor": 1
}
