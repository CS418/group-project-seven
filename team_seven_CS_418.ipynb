{
 "cells": [
  {
   "cell_type": "markdown",
   "metadata": {
    "id": "VfiZ4ioDfeOA"
   },
   "source": [
    "# Team Members\n",
    "Team Name - Team Seven\n",
    "1. Reezwan Ul Haq Mohammad - rmoham27@uic.edu\n",
    "2. Sai Anish Garapati - sgarap2@uic.edu\n",
    "3. Vamsi Krishna Mandalapu - vmanda8@uic.edu\n",
    "\n",
    "Project Name - Crash Prediction in Chicago"
   ]
  },
  {
   "cell_type": "markdown",
   "metadata": {},
   "source": [
    "test"
   ]
  }
 ],
 "metadata": {
  "colab": {
   "provenance": []
  },
  "kernelspec": {
   "display_name": "Python 3 (ipykernel)",
   "language": "python",
   "name": "python3"
  },
  "language_info": {
   "codemirror_mode": {
    "name": "ipython",
    "version": 3
   },
   "file_extension": ".py",
   "mimetype": "text/x-python",
   "name": "python",
   "nbconvert_exporter": "python",
   "pygments_lexer": "ipython3",
   "version": "3.8.9"
  },
  "vscode": {
   "interpreter": {
    "hash": "829af0bd2c02602bde90c5e837a65b57b5f26d748baaf8a2e913c5b36f7e7fe2"
   }
  }
 },
 "nbformat": 4,
 "nbformat_minor": 1
}
